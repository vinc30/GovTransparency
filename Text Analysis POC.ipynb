{
 "cells": [
  {
   "cell_type": "markdown",
   "metadata": {},
   "source": [
    "# Text Analysis POC"
   ]
  },
  {
   "cell_type": "code",
   "execution_count": 35,
   "metadata": {},
   "outputs": [],
   "source": [
    "import pandas as pd\n",
    "import re\n",
    "from utilities import extract_text_from_pdf"
   ]
  },
  {
   "cell_type": "code",
   "execution_count": 36,
   "metadata": {},
   "outputs": [
    {
     "data": {
      "text/plain": [
       "'立法院公報 第108'"
      ]
     },
     "execution_count": 36,
     "metadata": {},
     "output_type": "execute_result"
    }
   ],
   "source": [
    "path_to_pdf = 'test.pdf'\n",
    "text = extract_text_from_pdf(path_to_pdf)\n",
    "text[:10]"
   ]
  },
  {
   "cell_type": "code",
   "execution_count": 187,
   "metadata": {},
   "outputs": [
    {
     "data": {
      "text/plain": [
       "'立法院公報 第108卷 第67期 院會紀錄 \\n \\n主席：接著請李委員俊俋質詢，詢答時間為15分鐘。 \\n李委員俊俋：（9時32分）主席、行政院蘇院長、陳副院長、各部會首長、各位同仁。院長，你\\n在禮拜五做了一個施政報告，那個施政報告讓大家非常有感，特別是後面又有一段6分鐘的影\\n片，說明這幾個月做了哪些事情。我發現6分鐘根本講不完，其實大家非常有感，我們簡單來\\n看一下。第一個是非洲豬瘟的部分，我們要「保'"
      ]
     },
     "execution_count": 187,
     "metadata": {},
     "output_type": "execute_result"
    }
   ],
   "source": [
    "text[:200]"
   ]
  },
  {
   "cell_type": "code",
   "execution_count": 189,
   "metadata": {},
   "outputs": [],
   "source": [
    "# lst = re.findall(r'.*[。|？|\\n][ ]*\\n', text)\n",
    "lst = re.split(r'([。|？|\\n])[ ]*\\n', text)\n",
    "for i in range(len(lst)-1):\n",
    "    lst[i] = lst[i].replace('\\n','')\n",
    "    lst[i] = lst[i].strip()\n",
    "    lst[i] = lst[i].replace(\"立法院公報 第108卷 第67期 院會紀錄\",\"\")\n",
    "#     if len(lst[i+1]) == 1:\n",
    "#         lst[i] = lst[i]+ lst[i+1]\n",
    "lst = [i for i in lst if (not i.isnumeric() and len(i)>2 )]\n",
    "# for idx, s in enumerate(lst[:20]):\n",
    "#     print(repr(s))"
   ]
  },
  {
   "cell_type": "code",
   "execution_count": 190,
   "metadata": {},
   "outputs": [
    {
     "name": "stdout",
     "output_type": "stream",
     "text": [
      "61\n"
     ]
    }
   ],
   "source": [
    "idx_lst = [idx for idx, s in enumerate(lst) if '：' in s]\n",
    "idx_lst[:10]\n",
    "print(len(lst))"
   ]
  },
  {
   "cell_type": "code",
   "execution_count": 191,
   "metadata": {},
   "outputs": [
    {
     "data": {
      "text/plain": [
       "[(0, 1), (1, 2), (2, 3)]"
      ]
     },
     "execution_count": 191,
     "metadata": {},
     "output_type": "execute_result"
    }
   ],
   "source": [
    "text_chunk_id_tups = []\n",
    "for idx, n in enumerate(idx_lst[1:]):\n",
    "    text_chunk_id_tups.append((idx_lst[idx], n))\n",
    "text_chunk_id_tups[:3]"
   ]
  },
  {
   "cell_type": "code",
   "execution_count": 192,
   "metadata": {},
   "outputs": [
    {
     "data": {
      "text/plain": [
       "['主席：接著請李委員俊俋質詢，詢答時間為15分鐘',\n",
       " '李委員俊俋：（9時32分）主席、行政院蘇院長、陳副院長、各部會首長、各位同仁。院長，你在禮拜五做了一個施政報告，那個施政報告讓大家非常有感，特別是後面又有一段6分鐘的影片，說明這幾個月做了哪些事情。我發現6分鐘根本講不完，其實大家非常有感，我們簡單來看一下。第一個是非洲豬瘟的部分，我們要「保豬護臺」，這個非常重要，因為我們的豬肉產業非常多，所以這個部分我們到現在做到沒有任何的本土病例，亞洲各國都遭殃，但是臺灣沒有本土病例',\n",
       " '主席：請行政院蘇院長答復',\n",
       " '蘇院長貞昌：（9時33分）主席、各位委員。對，10國都淪陷了，臺灣還守得住，謝謝',\n",
       " '李委員俊俋：我們繼續往下看，還有育兒政策也讓大家覺得「足貼弖」，而減稅政策是大家最有感覺、所謂超有感的減稅。有關人民生活的部分，行政院這幾個月下來做了非常、非常多的事情。我們再來檢驗一下，關於經濟方面，剛剛曾銘宗委員當然有他的講法，但實際最後尌是看數字，我們來看經濟方面，其實在這三年多來GDP的成長滿驚人的，特別是在2017年整體經濟成長、GDP的數字尌超過前任總統──馬英九總統8年的任期，都超過很多，這個很清楚。現在BERI公布今年第二次的投資環境風險評估報告，它說：臺灣是全球投資風險第四安全的地方，在亞洲是第二名，僅次於新加坡，但是全球是第四名。事實上外資也做了這樣的反映，在馬英九政府時期外資投資帄均是53.6億美金，在蔡英文政府時期大概在2016年尌超過100億美金、2017年大概是七十多億美金，現在還在持續成長中。剛剛院長還有幾位部長所說的，包括現在臺商回流，再加上外資投資臺灣，我請問院長外資投資臺灣還有臺商回流的意罬是什麼？尌是臺灣的經濟穩定、臺灣的經濟備受期待，是不是這樣的意思']"
      ]
     },
     "execution_count": 192,
     "metadata": {},
     "output_type": "execute_result"
    }
   ],
   "source": [
    "text_parts = []\n",
    "for tups in text_chunk_id_tups:\n",
    "    parts = lst[tups[0]:tups[1]]\n",
    "    s = ''.join(parts).strip()\n",
    "    text_parts.append(s)\n",
    "    \n",
    "text_parts[:5]"
   ]
  },
  {
   "cell_type": "code",
   "execution_count": 193,
   "metadata": {
    "scrolled": false
   },
   "outputs": [
    {
     "data": {
      "text/plain": [
       "[[0, '主席', '接著請李委員俊俋質詢，詢答時間為15分鐘'],\n",
       " [1,\n",
       "  '李委員俊俋',\n",
       "  '（9時32分）主席、行政院蘇院長、陳副院長、各部會首長、各位同仁。院長，你在禮拜五做了一個施政報告，那個施政報告讓大家非常有感，特別是後面又有一段6分鐘的影片，說明這幾個月做了哪些事情。我發現6分鐘根本講不完，其實大家非常有感，我們簡單來看一下。第一個是非洲豬瘟的部分，我們要「保豬護臺」，這個非常重要，因為我們的豬肉產業非常多，所以這個部分我們到現在做到沒有任何的本土病例，亞洲各國都遭殃，但是臺灣沒有本土病例'],\n",
       " [2, '主席', '請行政院蘇院長答復'],\n",
       " [3, '蘇院長貞昌', '（9時33分）主席、各位委員。對，10國都淪陷了，臺灣還守得住，謝謝'],\n",
       " [4,\n",
       "  '李委員俊俋',\n",
       "  '我們繼續往下看，還有育兒政策也讓大家覺得「足貼弖」，而減稅政策是大家最有感覺、所謂超有感的減稅。有關人民生活的部分，行政院這幾個月下來做了非常、非常多的事情。我們再來檢驗一下，關於經濟方面，剛剛曾銘宗委員當然有他的講法，但實際最後尌是看數字，我們來看經濟方面，其實在這三年多來GDP的成長滿驚人的，特別是在2017年整體經濟成長、GDP的數字尌超過前任總統──馬英九總統8年的任期，都超過很多，這個很清楚。現在BERI公布今年第二次的投資環境風險評估報告，它說'],\n",
       " [5, '蘇院長貞昌', '對'],\n",
       " [6, '李委員俊俋', '這也表示各國都把資金匯進來臺灣，到臺灣來發展，這個尌是表示臺灣的經濟發展、臺灣的經濟穩定。但是有人不同意啊！這個人說'],\n",
       " [7, '蘇院長貞昌', '我認為這兩位都是為了政治的目的，講的話不符事實'],\n",
       " [8,\n",
       "  '李委員俊俋',\n",
       "  '不符事實嘛！因為數字看得非常清楚嘛！經濟成長、失業率也降低，很多方面民眾超有感，但是只有這兩位沒有感覺，對不對？那還有一種人，前兩天發生的香港藝人何韻詵在臺灣參加和帄集會遊行被潑漆，這個院長知道吧'],\n",
       " [9, '蘇院長貞昌', '對']]"
      ]
     },
     "execution_count": 193,
     "metadata": {},
     "output_type": "execute_result"
    }
   ],
   "source": [
    "result_lst = [[idx, i.split('：')[0].strip(), i.split('：')[1].strip()] for idx, i in enumerate(text_parts)]\n",
    "result_lst[:10]"
   ]
  },
  {
   "cell_type": "code",
   "execution_count": 194,
   "metadata": {},
   "outputs": [
    {
     "data": {
      "text/html": [
       "<div>\n",
       "<style scoped>\n",
       "    .dataframe tbody tr th:only-of-type {\n",
       "        vertical-align: middle;\n",
       "    }\n",
       "\n",
       "    .dataframe tbody tr th {\n",
       "        vertical-align: top;\n",
       "    }\n",
       "\n",
       "    .dataframe thead th {\n",
       "        text-align: right;\n",
       "    }\n",
       "</style>\n",
       "<table border=\"1\" class=\"dataframe\">\n",
       "  <thead>\n",
       "    <tr style=\"text-align: right;\">\n",
       "      <th></th>\n",
       "      <th>order_index</th>\n",
       "      <th>position</th>\n",
       "      <th>name</th>\n",
       "      <th>content</th>\n",
       "    </tr>\n",
       "  </thead>\n",
       "  <tbody>\n",
       "    <tr>\n",
       "      <th>0</th>\n",
       "      <td>0</td>\n",
       "      <td>主席</td>\n",
       "      <td></td>\n",
       "      <td>接著請李委員俊俋質詢，詢答時間為15分鐘</td>\n",
       "    </tr>\n",
       "    <tr>\n",
       "      <th>1</th>\n",
       "      <td>1</td>\n",
       "      <td>委員</td>\n",
       "      <td>李俊俋</td>\n",
       "      <td>（9時32分）主席、行政院蘇院長、陳副院長、各部會首長、各位同仁。院長，你在禮拜五做了一個施...</td>\n",
       "    </tr>\n",
       "    <tr>\n",
       "      <th>2</th>\n",
       "      <td>2</td>\n",
       "      <td>主席</td>\n",
       "      <td></td>\n",
       "      <td>請行政院蘇院長答復</td>\n",
       "    </tr>\n",
       "    <tr>\n",
       "      <th>3</th>\n",
       "      <td>3</td>\n",
       "      <td>院長</td>\n",
       "      <td>蘇貞昌</td>\n",
       "      <td>（9時33分）主席、各位委員。對，10國都淪陷了，臺灣還守得住，謝謝</td>\n",
       "    </tr>\n",
       "    <tr>\n",
       "      <th>4</th>\n",
       "      <td>4</td>\n",
       "      <td>委員</td>\n",
       "      <td>李俊俋</td>\n",
       "      <td>我們繼續往下看，還有育兒政策也讓大家覺得「足貼弖」，而減稅政策是大家最有感覺、所謂超有感的減...</td>\n",
       "    </tr>\n",
       "  </tbody>\n",
       "</table>\n",
       "</div>"
      ],
      "text/plain": [
       "   order_index position name  \\\n",
       "0            0       主席        \n",
       "1            1       委員  李俊俋   \n",
       "2            2       主席        \n",
       "3            3       院長  蘇貞昌   \n",
       "4            4       委員  李俊俋   \n",
       "\n",
       "                                             content  \n",
       "0                               接著請李委員俊俋質詢，詢答時間為15分鐘  \n",
       "1  （9時32分）主席、行政院蘇院長、陳副院長、各部會首長、各位同仁。院長，你在禮拜五做了一個施...  \n",
       "2                                          請行政院蘇院長答復  \n",
       "3                 （9時33分）主席、各位委員。對，10國都淪陷了，臺灣還守得住，謝謝  \n",
       "4  我們繼續往下看，還有育兒政策也讓大家覺得「足貼弖」，而減稅政策是大家最有感覺、所謂超有感的減...  "
      ]
     },
     "execution_count": 194,
     "metadata": {},
     "output_type": "execute_result"
    }
   ],
   "source": [
    "def get_name(s):\n",
    "    '''\n",
    "    s: `str`\n",
    "    \n",
    "    s = '李委員俊俋' or '主席'\n",
    "    we want to return '李俊俋'\n",
    "    \n",
    "    '''\n",
    "    if s == '主席':\n",
    "        return ''\n",
    "    \n",
    "    return s[0]+s[-2:]\n",
    "    \n",
    "\n",
    "def get_position(s):\n",
    "    '''\n",
    "    s: `str`\n",
    "    \n",
    "    s = '李委員俊俋' or '主席'\n",
    "    we want to return '委員' or '主席'\n",
    "    \n",
    "    '''\n",
    "    if s == '主席':\n",
    "        return s\n",
    "\n",
    "    \n",
    "    return s[1:5-2]\n",
    "\n",
    "df = pd.DataFrame(result_lst)\n",
    "df.columns = ['order_index', 'speaker', 'content']\n",
    "df['name'] = df['speaker'].apply(lambda x: get_name(x))\n",
    "df['position'] = df['speaker'].apply(lambda x: get_position(x))\n",
    "df = df[['order_index', 'position', 'name', 'content']]\n",
    "df.to_csv('test_content.csv', index = False)\n",
    "\n",
    "df.head()"
   ]
  },
  {
   "cell_type": "code",
   "execution_count": null,
   "metadata": {},
   "outputs": [],
   "source": []
  },
  {
   "cell_type": "code",
   "execution_count": null,
   "metadata": {},
   "outputs": [],
   "source": []
  }
 ],
 "metadata": {
  "kernelspec": {
   "display_name": "Python 3",
   "language": "python",
   "name": "python3"
  },
  "language_info": {
   "codemirror_mode": {
    "name": "ipython",
    "version": 3
   },
   "file_extension": ".py",
   "mimetype": "text/x-python",
   "name": "python",
   "nbconvert_exporter": "python",
   "pygments_lexer": "ipython3",
   "version": "3.7.5"
  }
 },
 "nbformat": 4,
 "nbformat_minor": 2
}
